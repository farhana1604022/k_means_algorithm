{
 "cells": [
  {
   "cell_type": "code",
   "execution_count": 1,
   "id": "eed5ad45",
   "metadata": {},
   "outputs": [],
   "source": [
    "import pandas as pd\n",
    "import numpy as np\n",
    "from sklearn.preprocessing import LabelEncoder\n",
    "from sklearn import feature_selection\n",
    "from sklearn import model_selection\n",
    "from sklearn import metrics\n",
    "from sklearn.model_selection import train_test_split\n",
    "from sklearn.cluster import KMeans\n"
   ]
  },
  {
   "cell_type": "code",
   "execution_count": 2,
   "id": "d49f7cff",
   "metadata": {},
   "outputs": [],
   "source": [
    "\n",
    "df = pd.read_csv('1604022_Depression and Happiness Factor.csv')\n",
    "target = df['How are you feeling right now?']\n",
    "drop_cols = ['Timestamp','Your location ?','How are you feeling right now?','On a scale of 1-100, how would you express this feeling?']\n",
    "df.drop(drop_cols, axis=1, inplace= True)\n"
   ]
  },
  {
   "cell_type": "code",
   "execution_count": 3,
   "id": "96f16097",
   "metadata": {},
   "outputs": [
    {
     "name": "stdout",
     "output_type": "stream",
     "text": [
      "<class 'pandas.core.frame.DataFrame'>\n",
      "RangeIndex: 1010 entries, 0 to 1009\n",
      "Data columns (total 17 columns):\n",
      " #   Column                                                                                        Non-Null Count  Dtype \n",
      "---  ------                                                                                        --------------  ----- \n",
      " 0   Which year are you in?                                                                        1010 non-null   object\n",
      " 1   Gender                                                                                        1010 non-null   object\n",
      " 2   Age                                                                                           1010 non-null   int64 \n",
      " 3   Relationship status                                                                           1010 non-null   object\n",
      " 4   Are you happy with your financial state?                                                      1010 non-null   object\n",
      " 5   How much have you succeeded to cope up with the environment of your educational institution?  1010 non-null   int64 \n",
      " 6   Understanding with your family members?                                                       1010 non-null   object\n",
      " 7   Are you feeling pressure in your study or work right now?                                     1010 non-null   object\n",
      " 8   Are you satisfied with your academic result?                                                  1010 non-null   object\n",
      " 9   Are you happy with your living place?                                                         1010 non-null   object\n",
      " 10  Who supports you when you are not succeeding in your academic life?                           1010 non-null   object\n",
      " 11  Have you used any social media within the last 6 hours?                                       1010 non-null   object\n",
      " 12  Do you have inferiority complex?                                                              1010 non-null   object\n",
      " 13  Are you satisfied with your meal today?                                                       1010 non-null   object\n",
      " 14  Are you feeling sick/health issues today?                                                     1010 non-null   object\n",
      " 15  Have you done any recreational activity (sports, gaming, hobby etc.) today?                   1010 non-null   object\n",
      " 16  How long did you sleep last night?(in hours)                                                  1010 non-null   int64 \n",
      "dtypes: int64(3), object(14)\n",
      "memory usage: 134.3+ KB\n"
     ]
    }
   ],
   "source": [
    "df.info()"
   ]
  },
  {
   "cell_type": "code",
   "execution_count": 4,
   "id": "44976f0e",
   "metadata": {},
   "outputs": [],
   "source": [
    "label = LabelEncoder()\n",
    "df['year'] = label.fit_transform(df['Which year are you in?'])\n",
    "df['gender'] = label.fit_transform(df['Gender'])\n",
    "df['rel_status'] = label.fit_transform(df['Relationship status'])\n",
    "df['fin_state'] = label.fit_transform(df['Are you happy with your financial state?'])\n",
    "df['un_fam'] = label.fit_transform(df['Understanding with your family members?'])\n",
    "df['pressure'] = label.fit_transform(df['Are you feeling pressure in your study or work right now?'])\n",
    "df['result_sat'] = label.fit_transform(df['Are you satisfied with your academic result?'])\n",
    "df['living_place'] = label.fit_transform(df['Are you happy with your living place?'])\n",
    "df['support'] = label.fit_transform(df['Who supports you when you are not succeeding in your academic life?'])\n",
    "df['soc_media'] = label.fit_transform(df['Have you used any social media within the last 6 hours?'])\n",
    "df['inferior_complex'] = label.fit_transform(df['Do you have inferiority complex? '])\n",
    "df['meal'] = label.fit_transform(df['Are you satisfied with your meal today?'])\n",
    "df['health_issue'] = label.fit_transform(df['Are you feeling sick/health issues today?'])\n",
    "df['hobby'] = label.fit_transform(df['Have you done any recreational activity (sports, gaming, hobby etc.) today?'])\n",
    "\n"
   ]
  },
  {
   "cell_type": "code",
   "execution_count": 5,
   "id": "fecd048f",
   "metadata": {},
   "outputs": [],
   "source": [
    "\n",
    "df.drop(['Which year are you in?','Gender', 'Relationship status',\n",
    "       'Are you happy with your financial state?',\n",
    "       'Understanding with your family members?',\n",
    "       'Are you feeling pressure in your study or work right now?',\n",
    "       'Are you satisfied with your academic result?',\n",
    "       'Are you happy with your living place?',\n",
    "       'Who supports you when you are not succeeding in your academic life?',\n",
    "       'Have you used any social media within the last 6 hours?',\n",
    "       'Do you have inferiority complex? ',\n",
    "       'Are you satisfied with your meal today?',\n",
    "       'Are you feeling sick/health issues today?',\n",
    "       'Have you done any recreational activity (sports, gaming, hobby etc.) today?',\n",
    "       ], axis=1, inplace=True)"
   ]
  },
  {
   "cell_type": "code",
   "execution_count": 6,
   "id": "3e477476",
   "metadata": {},
   "outputs": [],
   "source": [
    "\n",
    "df.rename(columns={'Age':'age','How long did you sleep last night?(in hours)':'sleep','How much have you succeeded to cope up with the environment of your educational institution?':'cope_with_ins'}, inplace=True)\n",
    "\n"
   ]
  },
  {
   "cell_type": "code",
   "execution_count": 7,
   "id": "ddd1b98e",
   "metadata": {},
   "outputs": [
    {
     "name": "stdout",
     "output_type": "stream",
     "text": [
      "<class 'pandas.core.frame.DataFrame'>\n",
      "RangeIndex: 1010 entries, 0 to 1009\n",
      "Data columns (total 17 columns):\n",
      " #   Column            Non-Null Count  Dtype\n",
      "---  ------            --------------  -----\n",
      " 0   age               1010 non-null   int64\n",
      " 1   cope_with_ins     1010 non-null   int64\n",
      " 2   sleep             1010 non-null   int64\n",
      " 3   year              1010 non-null   int32\n",
      " 4   gender            1010 non-null   int32\n",
      " 5   rel_status        1010 non-null   int32\n",
      " 6   fin_state         1010 non-null   int32\n",
      " 7   un_fam            1010 non-null   int32\n",
      " 8   pressure          1010 non-null   int32\n",
      " 9   result_sat        1010 non-null   int32\n",
      " 10  living_place      1010 non-null   int32\n",
      " 11  support           1010 non-null   int32\n",
      " 12  soc_media         1010 non-null   int32\n",
      " 13  inferior_complex  1010 non-null   int32\n",
      " 14  meal              1010 non-null   int32\n",
      " 15  health_issue      1010 non-null   int32\n",
      " 16  hobby             1010 non-null   int32\n",
      "dtypes: int32(14), int64(3)\n",
      "memory usage: 79.0 KB\n"
     ]
    }
   ],
   "source": [
    "df.info()\n"
   ]
  },
  {
   "cell_type": "code",
   "execution_count": 11,
   "id": "e4aea100",
   "metadata": {},
   "outputs": [
    {
     "ename": "NameError",
     "evalue": "name 'x' is not defined",
     "output_type": "error",
     "traceback": [
      "\u001b[1;31m---------------------------------------------------------------------------\u001b[0m",
      "\u001b[1;31mNameError\u001b[0m                                 Traceback (most recent call last)",
      "\u001b[1;32m<ipython-input-11-c3b62ac018e6>\u001b[0m in \u001b[0;36m<module>\u001b[1;34m\u001b[0m\n\u001b[0;32m      5\u001b[0m \u001b[1;32mfor\u001b[0m \u001b[0mi\u001b[0m \u001b[1;32min\u001b[0m \u001b[0mrange\u001b[0m\u001b[1;33m(\u001b[0m\u001b[1;36m1\u001b[0m\u001b[1;33m,\u001b[0m \u001b[1;36m11\u001b[0m\u001b[1;33m)\u001b[0m\u001b[1;33m:\u001b[0m\u001b[1;33m\u001b[0m\u001b[1;33m\u001b[0m\u001b[0m\n\u001b[0;32m      6\u001b[0m     \u001b[0mkmeans\u001b[0m \u001b[1;33m=\u001b[0m \u001b[0mKMeans\u001b[0m\u001b[1;33m(\u001b[0m\u001b[0mn_clusters\u001b[0m\u001b[1;33m=\u001b[0m\u001b[0mi\u001b[0m\u001b[1;33m,\u001b[0m \u001b[0minit\u001b[0m\u001b[1;33m=\u001b[0m\u001b[1;34m'k-means++'\u001b[0m\u001b[1;33m,\u001b[0m \u001b[0mrandom_state\u001b[0m\u001b[1;33m=\u001b[0m \u001b[1;36m42\u001b[0m\u001b[1;33m)\u001b[0m\u001b[1;33m\u001b[0m\u001b[1;33m\u001b[0m\u001b[0m\n\u001b[1;32m----> 7\u001b[1;33m     \u001b[0mkmeans\u001b[0m\u001b[1;33m.\u001b[0m\u001b[0mfit\u001b[0m\u001b[1;33m(\u001b[0m\u001b[0mx\u001b[0m\u001b[1;33m)\u001b[0m\u001b[1;33m\u001b[0m\u001b[1;33m\u001b[0m\u001b[0m\n\u001b[0m\u001b[0;32m      8\u001b[0m     \u001b[0mwcss_list\u001b[0m\u001b[1;33m.\u001b[0m\u001b[0mappend\u001b[0m\u001b[1;33m(\u001b[0m\u001b[0mkmeans\u001b[0m\u001b[1;33m.\u001b[0m\u001b[0minertia_\u001b[0m\u001b[1;33m)\u001b[0m\u001b[1;33m\u001b[0m\u001b[1;33m\u001b[0m\u001b[0m\n\u001b[0;32m      9\u001b[0m \u001b[0mmtp\u001b[0m\u001b[1;33m.\u001b[0m\u001b[0mplot\u001b[0m\u001b[1;33m(\u001b[0m\u001b[0mrange\u001b[0m\u001b[1;33m(\u001b[0m\u001b[1;36m1\u001b[0m\u001b[1;33m,\u001b[0m \u001b[1;36m11\u001b[0m\u001b[1;33m)\u001b[0m\u001b[1;33m,\u001b[0m \u001b[0mwcss_list\u001b[0m\u001b[1;33m)\u001b[0m\u001b[1;33m\u001b[0m\u001b[1;33m\u001b[0m\u001b[0m\n",
      "\u001b[1;31mNameError\u001b[0m: name 'x' is not defined"
     ]
    }
   ],
   "source": [
    "import matplotlib.pyplot as mtp \n",
    "wcss_list= []  #Initializing the list for the values of WCSS  \n",
    "  \n",
    "#Using for loop for iterations from 1 to 10.  \n",
    "for i in range(1, 11):  \n",
    "    kmeans = KMeans(n_clusters=i, init='k-means++', random_state= 42)  \n",
    "    kmeans.fit(x)  \n",
    "    wcss_list.append(kmeans.inertia_)  \n",
    "mtp.plot(range(1, 11), wcss_list)  \n",
    "mtp.title('The Elobw Method Graph')  \n",
    "mtp.xlabel('Number of clusters(k)')  \n",
    "mtp.ylabel('wcss_list')  \n",
    "mtp.show()  "
   ]
  },
  {
   "cell_type": "code",
   "execution_count": 8,
   "id": "96dbea56",
   "metadata": {},
   "outputs": [
    {
     "data": {
      "text/plain": [
       "KMeans(n_clusters=5, random_state=0)"
      ]
     },
     "execution_count": 8,
     "metadata": {},
     "output_type": "execute_result"
    }
   ],
   "source": [
    "df_copy= df\n",
    "kmeans = KMeans(n_clusters=5, random_state=0)\n",
    "kmeans.fit(df_copy)"
   ]
  },
  {
   "cell_type": "code",
   "execution_count": 9,
   "id": "e91e1a17",
   "metadata": {},
   "outputs": [
    {
     "name": "stdout",
     "output_type": "stream",
     "text": [
      "[[ 2.29192825e+01  3.00000000e+00  8.47533632e+00  2.91928251e+00\n",
      "   0.00000000e+00  0.00000000e+00  0.00000000e+00  1.00448430e+00\n",
      "   5.56053812e-01  1.79372197e-02  9.73094170e-01  0.00000000e+00\n",
      "   1.79372197e-01  1.38116592e+00  0.00000000e+00  3.58744395e-02\n",
      "   3.58744395e-02]\n",
      " [ 2.30000000e+01  3.00000000e+00  6.33542977e+00  3.00000000e+00\n",
      "   0.00000000e+00  0.00000000e+00  0.00000000e+00  1.67085954e+00\n",
      "   9.97903564e-01 -8.67361738e-18  1.00000000e+00  0.00000000e+00\n",
      "   9.97903564e-01  1.82809224e+00  0.00000000e+00 -4.16333634e-17\n",
      "   3.05311332e-16]\n",
      " [ 2.29857143e+01  3.00000000e+00  8.15000000e+00  2.98571429e+00\n",
      "   0.00000000e+00  0.00000000e+00  0.00000000e+00  1.70000000e+00\n",
      "   5.35714286e-01  7.14285714e-03  8.00000000e-01  0.00000000e+00\n",
      "   8.85714286e-01  1.50000000e+00  0.00000000e+00  7.14285714e-03\n",
      "   8.92857143e-01]\n",
      " [ 2.27739130e+01  2.96521739e+00  6.69565217e+00  2.77391304e+00\n",
      "   0.00000000e+00  0.00000000e+00  0.00000000e+00  9.91304348e-01\n",
      "   7.30434783e-01  3.47826087e-02  9.65217391e-01  0.00000000e+00\n",
      "   7.73913043e-01  9.56521739e-01  0.00000000e+00  2.60869565e-02\n",
      "   8.95652174e-01]\n",
      " [ 2.29454545e+01  3.00000000e+00  4.92727273e+00  2.94545455e+00\n",
      "   0.00000000e+00  0.00000000e+00  0.00000000e+00  5.45454545e-02\n",
      "   1.81818182e-02 -3.46944695e-18  5.45454545e-02  0.00000000e+00\n",
      "   3.63636364e-02  1.00000000e+00  0.00000000e+00  9.45454545e-01\n",
      "  -1.11022302e-16]]\n",
      "[0 2 2 ... 1 1 1]\n"
     ]
    }
   ],
   "source": [
    "print(kmeans.cluster_centers_)\n",
    "print(kmeans.labels_)"
   ]
  },
  {
   "cell_type": "code",
   "execution_count": 10,
   "id": "8d5ec8bc",
   "metadata": {},
   "outputs": [
    {
     "data": {
      "text/plain": [
       "0.24639767634961435"
      ]
     },
     "execution_count": 10,
     "metadata": {},
     "output_type": "execute_result"
    }
   ],
   "source": [
    "\n",
    "y_kmeans = kmeans.predict(df_copy)\n",
    "metrics.adjusted_rand_score(target, y_kmeans)\n"
   ]
  },
  {
   "cell_type": "code",
   "execution_count": null,
   "id": "9146a21a",
   "metadata": {},
   "outputs": [],
   "source": []
  }
 ],
 "metadata": {
  "kernelspec": {
   "display_name": "Python 3",
   "language": "python",
   "name": "python3"
  },
  "language_info": {
   "codemirror_mode": {
    "name": "ipython",
    "version": 3
   },
   "file_extension": ".py",
   "mimetype": "text/x-python",
   "name": "python",
   "nbconvert_exporter": "python",
   "pygments_lexer": "ipython3",
   "version": "3.8.8"
  }
 },
 "nbformat": 4,
 "nbformat_minor": 5
}
